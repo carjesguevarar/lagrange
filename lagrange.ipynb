{
 "cells": [
  {
   "cell_type": "markdown",
   "metadata": {
    "collapsed": true
   },
   "source": [
    "# Recursos necesarios"
   ]
  },
  {
   "cell_type": "code",
   "execution_count": 1,
   "metadata": {},
   "outputs": [],
   "source": [
    "import math\n",
    "import matplotlib.pyplot as plt\n",
    "\n",
    "\n",
    "def f(x):\n",
    "    \"\"\"\n",
    "    Función que evalua una función.\n",
    "    :param x: Punto en la función a evaluar.\n",
    "    :return: Valor numérico de la función en el punto 'x'.\n",
    "    \"\"\"\n",
    "    return x*math.exp(x)\n",
    "\n",
    "\n",
    "# Datos de entrada\n",
    "\n",
    "\n",
    "table = ((1, f(1)), (2, f(2)), (3, f(3)))\n",
    "inter = (table[0][0] - 1, table[1][0] - 1, table[2][0] - 1)\n",
    "test = (1.5, 2.5, 3.5)\n",
    "realev = []\n",
    "aproev = []\n",
    "errev = []\n",
    "\n",
    "\n",
    "def li(r, v):\n",
    "    \"\"\"\n",
    "    Función que devuelve 'li', perteneciente a la ecuación de interpolación de Lagrange.\n",
    "    :param r: Valor actual.\n",
    "    :param v: Punto a evaluar en la interpolación.\n",
    "    :return: Valor de 'li' en base al punto 'r'.\n",
    "    \"\"\"\n",
    "    fuc = 1\n",
    "    for q in inter:\n",
    "        if q != r:\n",
    "            fuc = fuc*(v - table[q][0]) / (table[r][0] - table[q][0])\n",
    "    return fuc\n",
    "\n",
    "\n",
    "def err(vn, vl):\n",
    "    \"\"\"\n",
    "    Función que calcula el error relativo.\n",
    "    :param vn: Valor actual.\n",
    "    :param vl: Valor anterior.\n",
    "    :return: Error relativo en base a los dos valores.\n",
    "    \"\"\"\n",
    "    return abs((vn-vl)/vn)\n",
    "\n",
    "\n",
    "def testing():\n",
    "    \"\"\"\n",
    "    Función que realiza la prueba de aproximación, en base a la tupla 'test'.\n",
    "    :return: None\n",
    "    \"\"\"\n",
    "    for q in test:\n",
    "        realev.append(f(q))\n",
    "        aproev.append(lagrange(q))\n",
    "    for j in range(0, len(table)):\n",
    "        errev.append(err(realev[j], aproev[j]))\n",
    "    print(realev)\n",
    "    print(aproev)"
   ]
  },
  {
   "cell_type": "markdown",
   "metadata": {},
   "source": [
    "# Método de Lagrange"
   ]
  },
  {
   "cell_type": "code",
   "execution_count": 2,
   "metadata": {},
   "outputs": [],
   "source": [
    "def lagrange(v):\n",
    "    \"\"\"\n",
    "    Función que aproxima una serie de puntos, por medio de la interpolación de Lagrange.\n",
    "    :param v: Punto a evaluar en la interpolación.\n",
    "    :return: Valor aproximado del punto v, en la interpolación.\n",
    "    \"\"\"\n",
    "    p = 0\n",
    "    for r in inter:\n",
    "        p = p + table[r][1]*li(r, v)\n",
    "    return p"
   ]
  },
  {
   "cell_type": "markdown",
   "metadata": {},
   "source": [
    "# Vista de resultados"
   ]
  },
  {
   "cell_type": "markdown",
   "metadata": {},
   "source": [
    "Cálculo de los resultados:"
   ]
  },
  {
   "cell_type": "code",
   "execution_count": 3,
   "metadata": {},
   "outputs": [
    {
     "name": "stdout",
     "output_type": "stream",
     "text": [
      "[6.722533605507097, 30.456234901758684, 115.90408185542309]\n[4.570863487872741, 33.34002795842472, 95.52786063127614]\n"
     ]
    }
   ],
   "source": [
    "testing()"
   ]
  },
  {
   "cell_type": "markdown",
   "metadata": {},
   "source": [
    "Gráfica perteneciente al error relativo en base a los puntos datos:"
   ]
  },
  {
   "cell_type": "code",
   "execution_count": 4,
   "metadata": {},
   "outputs": [
    {
     "data": {
      "text/plain": [
       "[<matplotlib.lines.Line2D at 0xabe9234c>]"
      ]
     },
     "execution_count": 4,
     "metadata": {},
     "output_type": "execute_result"
    },
    {
     "data": {
      "image/png": "[encoded data removed]",
      "text/plain": [
       "<Figure size 432x288 with 1 Axes>"
      ]
     },
     "metadata": {},
     "output_type": "display_data"
    }
   ],
   "source": [
    "plt.plot(errev)"
   ]
  }
 ],
 "metadata": {
  "kernelspec": {
   "display_name": "Python 2",
   "language": "python",
   "name": "python2"
  },
  "language_info": {
   "codemirror_mode": {
    "name": "ipython",
    "version": 2
   },
   "file_extension": ".py",
   "mimetype": "text/x-python",
   "name": "python",
   "nbconvert_exporter": "python",
   "pygments_lexer": "ipython2",
   "version": "2.7.6"
  }
 },
 "nbformat": 4,
 "nbformat_minor": 0
}
